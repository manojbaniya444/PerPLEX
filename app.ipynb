{
 "cells": [
  {
   "cell_type": "code",
   "execution_count": 26,
   "id": "4365f061",
   "metadata": {},
   "outputs": [],
   "source": [
    "from typing import TypedDict, Annotated, Optional\n",
    "import json\n",
    "\n",
    "from dotenv import load_dotenv\n",
    "import os\n",
    "\n",
    "from langgraph.graph import add_messages, StateGraph, START, END\n",
    "from langchain_openai import ChatOpenAI\n",
    "from langchain_community.tools import TavilySearchResults\n",
    "from langgraph.checkpoint.memory import MemorySaver\n",
    "\n",
    "from uuid import uuid4"
   ]
  },
  {
   "cell_type": "code",
   "execution_count": 8,
   "id": "a2c1426a",
   "metadata": {},
   "outputs": [
    {
     "data": {
      "text/plain": [
       "True"
      ]
     },
     "execution_count": 8,
     "metadata": {},
     "output_type": "execute_result"
    }
   ],
   "source": [
    "load_dotenv()"
   ]
  },
  {
   "cell_type": "markdown",
   "id": "bb5b2e9c",
   "metadata": {},
   "source": [
    "#### Test Model"
   ]
  },
  {
   "cell_type": "code",
   "execution_count": 9,
   "id": "8fe4614c",
   "metadata": {},
   "outputs": [],
   "source": [
    "model = ChatOpenAI(model=\"gpt-4o\")"
   ]
  },
  {
   "cell_type": "code",
   "execution_count": 10,
   "id": "f63f7279",
   "metadata": {},
   "outputs": [
    {
     "data": {
      "text/plain": [
       "AIMessage(content=\"Hello! I'm just a program, so I don't have feelings, but I'm here and ready to help you. How can I assist you today?\", additional_kwargs={'refusal': None}, response_metadata={'token_usage': {'completion_tokens': 29, 'prompt_tokens': 11, 'total_tokens': 40, 'completion_tokens_details': {'accepted_prediction_tokens': 0, 'audio_tokens': 0, 'reasoning_tokens': 0, 'rejected_prediction_tokens': 0}, 'prompt_tokens_details': {'audio_tokens': 0, 'cached_tokens': 0}}, 'model_name': 'gpt-4o-2024-08-06', 'system_fingerprint': 'fp_a288987b44', 'id': 'chatcmpl-Byd7R2nUtimLSYcY31Z32LXp9rZ6x', 'service_tier': 'default', 'finish_reason': 'stop', 'logprobs': None}, id='run--baae3287-47a6-46f9-be5e-b79c7249a5b2-0', usage_metadata={'input_tokens': 11, 'output_tokens': 29, 'total_tokens': 40, 'input_token_details': {'audio': 0, 'cache_read': 0}, 'output_token_details': {'audio': 0, 'reasoning': 0}})"
      ]
     },
     "execution_count": 10,
     "metadata": {},
     "output_type": "execute_result"
    }
   ],
   "source": [
    "response = model.invoke(\"Hi how are you\")\n",
    "response"
   ]
  },
  {
   "cell_type": "markdown",
   "id": "40a95216",
   "metadata": {},
   "source": [
    "#### Test Tavily"
   ]
  },
  {
   "cell_type": "code",
   "execution_count": 11,
   "id": "cbf9bcda",
   "metadata": {},
   "outputs": [
    {
     "name": "stderr",
     "output_type": "stream",
     "text": [
      "C:\\Users\\acer\\AppData\\Local\\Temp\\ipykernel_7780\\2118249668.py:1: LangChainDeprecationWarning: The class `TavilySearchResults` was deprecated in LangChain 0.3.25 and will be removed in 1.0. An updated version of the class exists in the :class:`~langchain-tavily package and should be used instead. To use it run `pip install -U :class:`~langchain-tavily` and import as `from :class:`~langchain_tavily import TavilySearch``.\n",
      "  search_tool = TavilySearchResults(max_results=4)\n"
     ]
    },
    {
     "data": {
      "text/plain": [
       "[{'title': \"Football, UEFA Women's EURO 2025 final: England come from ...\",\n",
       "  'url': 'https://www.olympics.com/en/news/uefa-womens-euro-2025-final-england-vs-spain-live-updates',\n",
       "  'content': \"By Nischal Schwager-Patel Updated on 27 July 2025 18:50 GMT+0 12 min read\\n\\nEngland are the champions of Europe, defeating world champions Spain in the UEFA Women’s EURO 2025 final.\\n\\nAfter 120 minutes of tense football on Sunday (27 July), Chloe Kelly scored the decisive spot kick in the penalty shootout, as England won 3-1 on penalties after a 1-1 draw in normal time at St. Jakob-Park. [...] UEFA Women’s EURO 2025 final: England come from behind to beat Spain in penalty shootout - as it happened\\n=========================================================================================================\\n\\nRelive how England became the champions of Europe once again, defeating world champions Spain in the UEFA Women’s EURO 2025 final.\\n\\nImage 2: England celebrate penalty shootout victory in the UEFA Women's EURO 2025 final against Spain.\\n\\nPicture by Alexander Hassenstein/Getty Images [...] And so, another substitute Chloe Kelly will take the fifth and final penalty for England. She places the ball down, adjusts her hair, takes her huge trademark step...and smashes the spot kick into the top corner out of reach!\\n\\nEngland have done it, they have defended their title and the Lionesses are the EURO 2025 champions!\\n\\n_20:44 - England 1-1 Spain (2-1 pens)_\\n\\nSpanish substitute Salma Paralluelo steps up...and she drags her effort wide!\\n\\n_20:43 - England 1-1 Spain (2-1 pens)_\",\n",
       "  'score': 0.9132521},\n",
       " {'title': \"England beats Spain on penalties to win Women's Euro 2025 final\",\n",
       "  'url': 'https://www.cnn.com/2025/07/27/sport/england-spain-womens-euro-2025-final-spt',\n",
       "  'content': \"England has been crowned champion of Europe for the second successive time after defeating Spain 3-1 on penalties in the Women’s Euro 2025 final.\\n\\nJust as she was when the Lionesses beat Germany to win this tournament in 2022, Chloe Kelly was the hero, scoring the decisive penalty after a 1-1 draw to avenge the memory of England’s defeat to Spain in the 2023 World Cup final. [...] BASEL, SWITZERLAND - JULY 27: Leah Williamson and Keira Walsh of England lift the UEFA Women's EURO trophy after their team's victory in during the UEFA Women's EURO 2025 Final match between England and Spain at St. Jakob-Park on July 27, 2025 in Basel, Switzerland. (Photo by Alexander Hassenstein/Getty Images) [...] BASEL, SWITZERLAND - JULY 27: Leah Williamson and Keira Walsh of England lift the UEFA Women's EURO trophy after their team's victory in during the UEFA Women's EURO 2025 Final match between England and Spain at St. Jakob-Park on July 27, 2025 in Basel, Switzerland. (Photo by Alexander Hassenstein/Getty Images)\",\n",
       "  'score': 0.9065293},\n",
       " {'title': \"UEFA Women's Euro 2025 final - Wikipedia\",\n",
       "  'url': 'https://en.wikipedia.org/wiki/UEFA_Women%27s_Euro_2025_final',\n",
       "  'content': \"The UEFA Women's Euro 2025 final is an upcoming football match on 27 July 2025 that will take place at St. Jakob-Park in Basel, Switzerland, to determine the winners of UEFA Women's Euro 2025. The match will take place between defending champions England and Spain, mirroring the men's UEFA Euro final of the previous year and serving as a rematch of the 2023 FIFA Women's World Cup final.\\n\\n## Background\\n\\n[edit] [...] Facing tournament hosts Switzerland (runners-up in Group A) in the quarter-finals in Bern, Spain cruised to a 2–0 win over Switzerland with goals from Athenea del Castillo and Clàudia Pina. In their first European semi-final in 28 years, Spain beat 2022 runners-up Germany 1–0 in Zurich, with Aitana Bonmatí scoring the lone goal – an audacious near-post shot to beat Ann-Katrin Berger – in extra time to send Spain into their first Women's Euro final.\\n\\n## Match\\n\\n[edit]\\n\\n### Details\\n\\n[edit] [...] Spain qualified for the tournament by placing first in Group A2 in the qualifying round ahead of Denmark, Belgium and the Czech Republic. For the finals tournament, they were drawn into Group B alongside Italy, Belgium and Portugal. Spain opened their tournament in style, dominating their first two group stage matches – a 5–0 thrashing of Portugal at the Stadion Wankdorf in Bern and a 6–2 hammering of Belgium at the Stockhorn Arena in Thun. Spain beat Italy 3–1 in their third group stage match\",\n",
       "  'score': 0.8682137},\n",
       " {'title': \"UEFA Women's Euro 2025 - Wikipedia\",\n",
       "  'url': 'https://en.wikipedia.org/wiki/UEFA_Women%27s_Euro_2025',\n",
       "  'content': \"1.   ^ _a__b_Overall goal difference: Switzerland +1, Finland 0\\n\\n2 July 2025(2025-07-02)\\n\\n18:00\\n\\n| IcelandImage 167: Iceland | 0–1 | Image 168: FinlandFinland |\\n| --- | --- | --- |\\n|  | Report |  KosolaImage 16970' |\\n\\nArena Thun, Thun\\n\\nAttendance: 7,683(\\n\\nReferee: Katalin Kulcsár (Hungary)\\n\\n2 July 2025(2025-07-02)\\n\\n21:00\\n\\n| SwitzerlandImage 170: Switzerland | 1–2 | Image 171: NorwayNorway |\\n| --- | --- | --- |\\n|  RiesenImage 17228' | Report |  HegerbergImage 17354'  StierliImage 17458'(o.g.) | [...] | FranceImage 259: France | 2–1 | Image 260: EnglandEngland |\\n| --- | --- | --- |\\n|  KatotoImage 26136'  BaltimoreImage 26239' | Report |  WalshImage 26387' |\\n\\nStadion Letzigrund, Zurich\\n\\nAttendance: 22,542(\\n\\nReferee: Tess Olofsson (Sweden)\\n\\n  \\n\\n9 July 2025(2025-07-09)\\n\\n18:00\\n\\n| EnglandImage 264: England | 4–0 | Image 265: NetherlandsNetherlands |\\n| --- | --- | --- |\\n|  JamesImage 26622', 60'  StanwayImage 26745+2'  TooneImage 26867' | Report |  |\\n\\nStadion Letzigrund, Zurich [...] Updated to match(es) played on 7 July 2025. Source: UEFA\\n\\n(A) Advance to a further round; (E) Eliminated\\n\\n3 July 2025(2025-07-03)\\n\\n18:00\\n\\n| BelgiumImage 199: Belgium | 0–1 | Image 200: ItalyItaly |\\n| --- | --- | --- |\\n|  | Report |  CarusoImage 20144' |\\n\\nStade de Tourbillon, Sion\\n\\nAttendance: 7,544(\\n\\nReferee: Désirée Grundbacher (Switzerland)\\n\\n3 July 2025(2025-07-03)\\n\\n21:00\",\n",
       "  'score': 0.8235701}]"
      ]
     },
     "execution_count": 11,
     "metadata": {},
     "output_type": "execute_result"
    }
   ],
   "source": [
    "search_tool = TavilySearchResults(max_results=4)\n",
    "\n",
    "response = search_tool.invoke(\"who won women euro 2025\")\n",
    "response"
   ]
  },
  {
   "cell_type": "code",
   "execution_count": 12,
   "id": "8bc1b770",
   "metadata": {},
   "outputs": [],
   "source": [
    "tools = [search_tool]"
   ]
  },
  {
   "cell_type": "markdown",
   "id": "a0b1a39c",
   "metadata": {},
   "source": [
    "#### Memory Saver"
   ]
  },
  {
   "cell_type": "code",
   "execution_count": 13,
   "id": "f1023034",
   "metadata": {},
   "outputs": [],
   "source": [
    "memory = MemorySaver()"
   ]
  },
  {
   "cell_type": "code",
   "execution_count": 14,
   "id": "b8ddfd50",
   "metadata": {},
   "outputs": [],
   "source": [
    "llm_with_tools = model.bind_tools(tools=tools)"
   ]
  },
  {
   "cell_type": "code",
   "execution_count": 16,
   "id": "49541a98",
   "metadata": {},
   "outputs": [],
   "source": [
    "response = llm_with_tools.invoke(\"who won women euro 2025\")"
   ]
  },
  {
   "cell_type": "code",
   "execution_count": 17,
   "id": "2a973391",
   "metadata": {},
   "outputs": [
    {
     "data": {
      "text/plain": [
       "AIMessage(content='', additional_kwargs={'tool_calls': [{'id': 'call_nh4YkBaUnw7lKeW0r6dIgCqr', 'function': {'arguments': '{\"query\":\"women euro 2025 winner\"}', 'name': 'tavily_search_results_json'}, 'type': 'function'}], 'refusal': None}, response_metadata={'token_usage': {'completion_tokens': 23, 'prompt_tokens': 86, 'total_tokens': 109, 'completion_tokens_details': {'accepted_prediction_tokens': 0, 'audio_tokens': 0, 'reasoning_tokens': 0, 'rejected_prediction_tokens': 0}, 'prompt_tokens_details': {'audio_tokens': 0, 'cached_tokens': 0}}, 'model_name': 'gpt-4o-2024-08-06', 'system_fingerprint': 'fp_a288987b44', 'id': 'chatcmpl-BydAxozdujkrJwQ5jEONxChfhH9Rm', 'service_tier': 'default', 'finish_reason': 'tool_calls', 'logprobs': None}, id='run--e34fc25d-a851-4a26-8688-2b57c6ed9166-0', tool_calls=[{'name': 'tavily_search_results_json', 'args': {'query': 'women euro 2025 winner'}, 'id': 'call_nh4YkBaUnw7lKeW0r6dIgCqr', 'type': 'tool_call'}], usage_metadata={'input_tokens': 86, 'output_tokens': 23, 'total_tokens': 109, 'input_token_details': {'audio': 0, 'cache_read': 0}, 'output_token_details': {'audio': 0, 'reasoning': 0}})"
      ]
     },
     "execution_count": 17,
     "metadata": {},
     "output_type": "execute_result"
    }
   ],
   "source": [
    "response"
   ]
  },
  {
   "cell_type": "code",
   "execution_count": 23,
   "id": "a87f9cb8",
   "metadata": {},
   "outputs": [
    {
     "data": {
      "text/plain": [
       "[{'name': 'tavily_search_results_json',\n",
       "  'args': {'query': 'women euro 2025 winner'},\n",
       "  'id': 'call_nh4YkBaUnw7lKeW0r6dIgCqr',\n",
       "  'type': 'tool_call'}]"
      ]
     },
     "execution_count": 23,
     "metadata": {},
     "output_type": "execute_result"
    }
   ],
   "source": [
    "response.tool_calls"
   ]
  },
  {
   "cell_type": "markdown",
   "id": "9afb422b",
   "metadata": {},
   "source": [
    "#### Building Graph"
   ]
  },
  {
   "cell_type": "code",
   "execution_count": 24,
   "id": "46eb1e77",
   "metadata": {},
   "outputs": [],
   "source": [
    "from langchain_core.messages import AIMessage, HumanMessage, SystemMessage, ToolMessage"
   ]
  },
  {
   "cell_type": "code",
   "execution_count": 20,
   "id": "1b217884",
   "metadata": {},
   "outputs": [],
   "source": [
    "class AgentState(TypedDict):\n",
    "    messages: Annotated[list, add_messages]"
   ]
  },
  {
   "cell_type": "code",
   "execution_count": 21,
   "id": "b1d53c73",
   "metadata": {},
   "outputs": [],
   "source": [
    "async def model(state: AgentState):\n",
    "    result = await llm_with_tools.ainvoke(state[\"messages\"])\n",
    "    return {\n",
    "        \"messages\": [result],\n",
    "    }"
   ]
  },
  {
   "cell_type": "code",
   "execution_count": 42,
   "id": "8915c7b1",
   "metadata": {},
   "outputs": [],
   "source": [
    "async def tool_router(state: AgentState):\n",
    "    latest_message = state[\"messages\"][-1]\n",
    "    \n",
    "    if (hasattr(latest_message, \"tool_calls\") and len(latest_message.tool_calls) > 0):\n",
    "        return \"tool_node\"\n",
    "    else:\n",
    "        return END"
   ]
  },
  {
   "cell_type": "code",
   "execution_count": 43,
   "id": "b009f2cf",
   "metadata": {},
   "outputs": [],
   "source": [
    "async def tool_node(state: AgentState):\n",
    "    \"\"\"Tool node to execute the tool that the llm call\"\"\"\n",
    "    tool_calls = state[\"messages\"][-1].tool_calls\n",
    "    \n",
    "    # initialize the list to store tool messages\n",
    "    tool_messages = []\n",
    "    \n",
    "    # process each tool call\n",
    "    for tool_call in tool_calls:\n",
    "        tool_name = tool_call[\"name\"]\n",
    "        tool_args = tool_call[\"args\"]\n",
    "        tool_id = tool_call[\"id\"]\n",
    "        \n",
    "        # handle the search tool\n",
    "        if tool_name == \"tavily_search_results_json\":\n",
    "            # execute the search tool with the provided arguments\n",
    "            search_results = await search_tool.ainvoke(tool_args)\n",
    "            # create a tool message for this result\n",
    "            tool_message = ToolMessage(\n",
    "                content=str(search_results),\n",
    "                tool_call_id=tool_id,\n",
    "                name=tool_name\n",
    "            )\n",
    "            \n",
    "            tool_messages.append(tool_message)\n",
    "            \n",
    "    # add the tool message to the state (add_messages le automatic gardinxa)\n",
    "    return {\n",
    "        \"messages\": tool_messages\n",
    "    }"
   ]
  },
  {
   "cell_type": "code",
   "execution_count": 44,
   "id": "d4b94753",
   "metadata": {},
   "outputs": [],
   "source": [
    "graph = StateGraph(AgentState)\n",
    "\n",
    "graph.add_node(\"model\", model)\n",
    "graph.add_node(\"tool_node\", tool_node)\n",
    "\n",
    "graph.add_edge(START, \"model\")\n",
    "graph.add_conditional_edges(\"model\", tool_router, {\n",
    "    \"tool_node\": \"tool_node\",\n",
    "    END: END\n",
    "})\n",
    "graph.add_edge(\"tool_node\", \"model\")\n",
    "\n",
    "workflow = graph.compile(checkpointer=memory)"
   ]
  },
  {
   "cell_type": "markdown",
   "id": "4748fcd9",
   "metadata": {},
   "source": [
    "#### Visualize Graph"
   ]
  },
  {
   "cell_type": "code",
   "execution_count": 45,
   "id": "3a6d313b",
   "metadata": {},
   "outputs": [],
   "source": [
    "from IPython.display import display, Image"
   ]
  },
  {
   "cell_type": "code",
   "execution_count": 46,
   "id": "20df89da",
   "metadata": {},
   "outputs": [
    {
     "data": {
      "image/png": "[encoded data removed]",
      "text/plain": [
       "<IPython.core.display.Image object>"
      ]
     },
     "metadata": {},
     "output_type": "display_data"
    }
   ],
   "source": [
    "display(Image(workflow.get_graph().draw_mermaid_png()))"
   ]
  },
  {
   "cell_type": "code",
   "execution_count": 50,
   "id": "8321aa8e",
   "metadata": {},
   "outputs": [],
   "source": [
    "config = {\n",
    "    \"configurable\":  {\n",
    "        \"thread_id\": \"100\"\n",
    "    }\n",
    "}"
   ]
  },
  {
   "cell_type": "code",
   "execution_count": 51,
   "id": "da053797",
   "metadata": {},
   "outputs": [],
   "source": [
    "response = await workflow.ainvoke({\n",
    "    \"messages\": [HumanMessage(content=\"Hi I am Harrindar\")]\n",
    "}, config=config)"
   ]
  },
  {
   "cell_type": "code",
   "execution_count": 52,
   "id": "f98909b2",
   "metadata": {},
   "outputs": [
    {
     "data": {
      "text/plain": [
       "{'messages': [HumanMessage(content='Hi I am Harrindar', additional_kwargs={}, response_metadata={}, id='c6e1af45-87be-4636-bba0-df41a08b7b86'),\n",
       "  AIMessage(content='Hello Harrindar! How can I assist you today?', additional_kwargs={'refusal': None}, response_metadata={'token_usage': {'completion_tokens': 13, 'prompt_tokens': 85, 'total_tokens': 98, 'completion_tokens_details': {'accepted_prediction_tokens': 0, 'audio_tokens': 0, 'reasoning_tokens': 0, 'rejected_prediction_tokens': 0}, 'prompt_tokens_details': {'audio_tokens': 0, 'cached_tokens': 0}}, 'model_name': 'gpt-4o-2024-08-06', 'system_fingerprint': 'fp_a288987b44', 'id': 'chatcmpl-BydcFxpy7iAbnPU8xiH6iawXA35ED', 'service_tier': 'default', 'finish_reason': 'stop', 'logprobs': None}, id='run--17340e3c-5621-4e74-9feb-7b6cf172958a-0', usage_metadata={'input_tokens': 85, 'output_tokens': 13, 'total_tokens': 98, 'input_token_details': {'audio': 0, 'cache_read': 0}, 'output_token_details': {'audio': 0, 'reasoning': 0}})]}"
      ]
     },
     "execution_count": 52,
     "metadata": {},
     "output_type": "execute_result"
    }
   ],
   "source": [
    "response"
   ]
  },
  {
   "cell_type": "code",
   "execution_count": null,
   "id": "ab46c4a1",
   "metadata": {},
   "outputs": [],
   "source": [
    "config = {\n",
    "    \"configurable\":  {\n",
    "        \"thread_id\": \"100\"\n",
    "    }\n",
    "}"
   ]
  },
  {
   "cell_type": "code",
   "execution_count": 54,
   "id": "2ba50314",
   "metadata": {},
   "outputs": [],
   "source": [
    "response = await workflow.ainvoke({\n",
    "    \"messages\": [HumanMessage(content=\"who won women euro 2025\")]\n",
    "}, config=config)"
   ]
  },
  {
   "cell_type": "code",
   "execution_count": 55,
   "id": "104647d4",
   "metadata": {},
   "outputs": [
    {
     "data": {
      "text/plain": [
       "{'messages': [HumanMessage(content='Hi I am Harrindar', additional_kwargs={}, response_metadata={}, id='c6e1af45-87be-4636-bba0-df41a08b7b86'),\n",
       "  AIMessage(content='Hello Harrindar! How can I assist you today?', additional_kwargs={'refusal': None}, response_metadata={'token_usage': {'completion_tokens': 13, 'prompt_tokens': 85, 'total_tokens': 98, 'completion_tokens_details': {'accepted_prediction_tokens': 0, 'audio_tokens': 0, 'reasoning_tokens': 0, 'rejected_prediction_tokens': 0}, 'prompt_tokens_details': {'audio_tokens': 0, 'cached_tokens': 0}}, 'model_name': 'gpt-4o-2024-08-06', 'system_fingerprint': 'fp_a288987b44', 'id': 'chatcmpl-BydcFxpy7iAbnPU8xiH6iawXA35ED', 'service_tier': 'default', 'finish_reason': 'stop', 'logprobs': None}, id='run--17340e3c-5621-4e74-9feb-7b6cf172958a-0', usage_metadata={'input_tokens': 85, 'output_tokens': 13, 'total_tokens': 98, 'input_token_details': {'audio': 0, 'cache_read': 0}, 'output_token_details': {'audio': 0, 'reasoning': 0}}),\n",
       "  HumanMessage(content='who won women euro 2025', additional_kwargs={}, response_metadata={}, id='7213f665-32b4-4a82-af1f-f214a3cc3d84'),\n",
       "  AIMessage(content='', additional_kwargs={'tool_calls': [{'id': 'call_YWsj7jUv75d0Py775USQcyBw', 'function': {'arguments': '{\"query\":\"Women\\'s Euro 2025 winner\"}', 'name': 'tavily_search_results_json'}, 'type': 'function'}], 'refusal': None}, response_metadata={'token_usage': {'completion_tokens': 23, 'prompt_tokens': 112, 'total_tokens': 135, 'completion_tokens_details': {'accepted_prediction_tokens': 0, 'audio_tokens': 0, 'reasoning_tokens': 0, 'rejected_prediction_tokens': 0}, 'prompt_tokens_details': {'audio_tokens': 0, 'cached_tokens': 0}}, 'model_name': 'gpt-4o-2024-08-06', 'system_fingerprint': 'fp_a288987b44', 'id': 'chatcmpl-Bydct3FN1yhJReZLwPuJQFlNiHWUc', 'service_tier': 'default', 'finish_reason': 'tool_calls', 'logprobs': None}, id='run--d8c971c2-290d-47a1-b65b-a2fbe4aecf67-0', tool_calls=[{'name': 'tavily_search_results_json', 'args': {'query': \"Women's Euro 2025 winner\"}, 'id': 'call_YWsj7jUv75d0Py775USQcyBw', 'type': 'tool_call'}], usage_metadata={'input_tokens': 112, 'output_tokens': 23, 'total_tokens': 135, 'input_token_details': {'audio': 0, 'cache_read': 0}, 'output_token_details': {'audio': 0, 'reasoning': 0}}),\n",
       "  ToolMessage(content='[{\\'title\\': \"UEFA Women\\'s Euro 2025 final - Wikipedia\", \\'url\\': \\'https://en.wikipedia.org/wiki/UEFA_Women%27s_Euro_2025_final\\', \\'content\\': \\'The UEFA Women\\\\\\'s Euro 2025 final is an upcoming football match on 27 July 2025 that will take place at St. Jakob-Park in Basel, Switzerland, to determine the winners of UEFA Women\\\\\\'s Euro 2025. The match will take place between defending champions England and Spain, mirroring the men\\\\\\'s UEFA Euro final of the previous year and serving as a rematch of the 2023 FIFA Women\\\\\\'s World Cup final.\\\\n\\\\n## Background\\\\n\\\\n[edit] [...] Jump to content\\\\n\\\\n# UEFA Women\\\\\\'s Euro 2025 final\\\\n\\\\n العربية\\\\n Italiano\\\\n Türkçe\\\\n 中文\\\\n\\\\nEdit links\\\\n\\\\nFrom Wikipedia, the free encyclopedia\\\\n\\\\nFootball match\\\\n\\\\nUEFA Women\\\\\\'s Euro 2025 final\\\\n\\\\n| St. Jakob-Park in Basel will host the final. | |\\\\n| Event | UEFA Women\\\\\\'s Euro 2025 |\\\\n| | England | Spain | | --- | --- | |  |  | |  |  | | |\\\\n| Date | 27 July 2025 (2025-07-27) |\\\\n| Venue | St. Jakob-Park, Basel |\\\\n| Referee \"Referee (association football)\") | Stéphanie Frappart (France) |\\\\n| ← 2022  2029 → | | [...] Facing tournament hosts Switzerland (runners-up in Group A) in the quarter-finals in Bern, Spain cruised to a 2–0 win over Switzerland with goals from Athenea del Castillo and Clàudia Pina. In their first European semi-final in 28 years, Spain beat 2022 runners-up Germany 1–0 in Zurich, with Aitana Bonmatí scoring the lone goal – an audacious near-post shot to beat Ann-Katrin Berger – in extra time to send Spain into their first Women\\\\\\'s Euro final.\\\\n\\\\n## Match\\\\n\\\\n[edit]\\\\n\\\\n### Details\\\\n\\\\n[edit]\\', \\'score\\': 0.9220975}, {\\'title\\': \"Football, UEFA Women\\'s EURO 2025 final: England come from ...\", \\'url\\': \\'https://www.olympics.com/en/news/uefa-womens-euro-2025-final-england-vs-spain-live-updates\\', \\'content\\': \"By Nischal Schwager-Patel Updated on 27 July 2025 18:50 GMT+0 12 min read\\\\n\\\\nEngland are the champions of Europe, defeating world champions Spain in the UEFA Women’s EURO 2025 final.\\\\n\\\\nAfter 120 minutes of tense football on Sunday (27 July), Chloe Kelly scored the decisive spot kick in the penalty shootout, as England won 3-1 on penalties after a 1-1 draw in normal time at St. Jakob-Park. [...] And so, another substitute Chloe Kelly will take the fifth and final penalty for England. She places the ball down, adjusts her hair, takes her huge trademark step...and smashes the spot kick into the top corner out of reach!\\\\n\\\\nEngland have done it, they have defended their title and the Lionesses are the EURO 2025 champions!\\\\n\\\\n_20:44 - England 1-1 Spain (2-1 pens)_\\\\n\\\\nSpanish substitute Salma Paralluelo steps up...and she drags her effort wide!\\\\n\\\\n_20:43 - England 1-1 Spain (2-1 pens)_ [...] UEFA Women’s EURO 2025 final: England come from behind to beat Spain in penalty shootout - as it happened\\\\n=========================================================================================================\\\\n\\\\nRelive how England became the champions of Europe once again, defeating world champions Spain in the UEFA Women’s EURO 2025 final.\\\\n\\\\nImage 2: England celebrate penalty shootout victory in the UEFA Women\\'s EURO 2025 final against Spain.\\\\n\\\\nPicture by Alexander Hassenstein/Getty Images\", \\'score\\': 0.90123636}, {\\'title\\': \"UEFA Women\\'s Euro 2025 - Wikipedia\", \\'url\\': \\'https://en.wikipedia.org/wiki/UEFA_Women%27s_Euro_2025\\', \\'content\\': \\'Image 303: FranceAmel Majri\\\\n   Image 304: FranceClara Mateo\\\\n   Image 305: GermanyJule Brand\\\\n   Image 306: GermanySjoeke Nüsken\\\\n   Image 307: IcelandHlín Eiríksdóttir\\\\n   Image 308: IcelandSveindís Jane Jónsdóttir\\\\n   Image 309: IcelandGlódís Perla Viggósdóttir\\\\n   Image 310: ItalyArianna Caruso\\\\n   Image 311: ItalyCristiana Girelli\\\\n   Image 312: NetherlandsEsmee Brugts\\\\n   Image 313: NetherlandsVivianne Miedema\\\\n   Image 314: NetherlandsVictoria Pelova\\\\n   Image 315: NorwayCaroline Graham Hansen [...] Winner Group C\\\\n22 July – Geneva\\\\nRunner-up Group D\\\\nWinner QF3\\\\n16 July – Geneva\\\\nWinner QF1\\\\nImage 280: NorwayNorway\\\\n27 July – Basel\\\\nRunner-up Group B\\\\nWinner SF1\\\\n19 July – Basel\\\\nWinner SF2\\\\nWinner Group D\\\\n23 July – Zurich\\\\nRunner-up Group C\\\\nWinner QF4\\\\n18 July – Bern\\\\nWinner QF2\\\\nWinner Group B\\\\n\\\\nImage 281: SwitzerlandSwitzerland\\\\n\\\\n### Quarter-finals\\\\n\\\\n[edit]\\\\n\\\\n16 July 2025(2025-07-16)\\\\n\\\\n21:00\\\\n\\\\n| NorwayImage 282: Norway | Match 25 QF1 | Runner-up Group B |\\\\n| --- | --- | --- |\\\\n|  |  |  | [...] Image 290: BelgiumHannah Eurlings\\\\n   Image 291: BelgiumJustine Vanhaevermaet\\\\n   Image 292: DenmarkAmalie Vangsgaard\\\\n   Image 293: EnglandGeorgia Stanway\\\\n   Image 294: EnglandElla Toone\\\\n   Image 295: EnglandKeira Walsh\\\\n   Image 296: FinlandKatariina Kosola\\\\n   Image 297: FinlandNatalia Kuikka\\\\n   Image 298: FinlandOona Sevenius\\\\n   Image 299: FranceSandy Baltimore\\\\n   Image 300: FranceKadidiatou Diani\\\\n   Image 301: FranceGrace Geyoro\\\\n   Image 302: FranceMarie-Antoinette Katoto\\', \\'score\\': 0.83225065}, {\\'title\\': \"Fixtures & results | UEFA Women\\'s EURO 2025\", \\'url\\': \\'https://www.uefa.com/womenseuro/fixtures-results/\\', \\'content\\': \\'Bosnia and Herzegovina\\\\n\\\\nBulgaria\\\\n\\\\nCroatia\\\\n\\\\nCyprus\\\\n\\\\nCzechia\\\\n\\\\nDenmark\\\\n\\\\nEngland\\\\n\\\\nEstonia\\\\n\\\\nFaroe Islands\\\\n\\\\nFinland\\\\n\\\\nFrance\\\\n\\\\nGeorgia\\\\n\\\\nGermany\\\\n\\\\nGreece\\\\n\\\\nHungary\\\\n\\\\nIceland\\\\n\\\\nIsrael\\\\n\\\\nItaly\\\\n\\\\nKazakhstan\\\\n\\\\nLatvia\\\\n\\\\nLithuania\\\\n\\\\nLuxembourg\\\\n\\\\nMalta\\\\n\\\\nMoldova\\\\n\\\\nMontenegro\\\\n\\\\nNetherlands\\\\n\\\\nNorth Macedonia\\\\n\\\\nNorthern Ireland\\\\n\\\\nNorway\\\\n\\\\nPoland\\\\n\\\\nPortugal\\\\n\\\\nRepublic of Ireland\\\\n\\\\nRomania\\\\n\\\\nScotland\\\\n\\\\nSerbia\\\\n\\\\nSlovakia\\\\n\\\\nSlovenia\\\\n\\\\nSpain\\\\n\\\\nSweden\\\\n\\\\nSwitzerland\\\\n\\\\nTürki̇ye\\\\n\\\\nUkraine\\\\n\\\\nWales\\\\n\\\\nApply selection Reset filters [...] Apply Cancel\\\\n\\\\nSave settings\\\\n\\\\nReject All Allow All\\\\n\\\\nImage 53: Powered by Onetrust\\\\n\\\\nJoin 43 million football fans today\\\\n\\\\n   Watch live and on-demand\\\\n   Play games and challenge your friends\\\\n   Win money-can’t-buy prizes\\\\n   Apply for tickets to Europe’s biggest games\\\\n\\\\nYour custom access to:\\\\n\\\\nand much more!\\\\n\\\\nYour custom access to:\\\\n\\\\nand much more!\\\\n\\\\nFilter\\\\n\\\\nSort calendar By date By round\\\\n\\\\nMatches & draws\\\\n\\\\nMatches Draws\\\\n\\\\nFilter by team\\\\n\\\\nAlbania\\\\n\\\\nAndorra\\\\n\\\\nArmenia\\\\n\\\\nAustria\\\\n\\\\nAzerbaijan\\\\n\\\\nBelarus\\\\n\\\\nBelgium [...] Matches\\\\n   Groups\\\\n   UEFA.tv\\\\n   Stats Stats Top scorer\\\\n   Teams\\\\n   News\\\\n   Gaming All games Fantasy Football Match Predictor Tournament Bracket Knockout Bracket Browse quizzes\\\\n   Tickets Overview Hospitality\\\\n   Event guide Overview Basel Bern Geneva Zurich St.Gallen Lucerne Sion Thun\\\\n   History Seasons All-time stats Video Teams Most titles\\\\n   About\\\\n   Store\\', \\'score\\': 0.7738498}]', name='tavily_search_results_json', id='e00d4c7a-a9d3-4209-8f6a-f358a73ea8cd', tool_call_id='call_YWsj7jUv75d0Py775USQcyBw'),\n",
       "  AIMessage(content=\"England won the UEFA Women's Euro 2025, defeating Spain in the final. The match ended in a 1-1 draw after normal time, and England secured the victory by winning 3-1 on penalties.\", additional_kwargs={'refusal': None}, response_metadata={'token_usage': {'completion_tokens': 45, 'prompt_tokens': 1995, 'total_tokens': 2040, 'completion_tokens_details': {'accepted_prediction_tokens': 0, 'audio_tokens': 0, 'reasoning_tokens': 0, 'rejected_prediction_tokens': 0}, 'prompt_tokens_details': {'audio_tokens': 0, 'cached_tokens': 0}}, 'model_name': 'gpt-4o-2024-08-06', 'system_fingerprint': 'fp_a288987b44', 'id': 'chatcmpl-BydcygH43DWbqlgSPig6pCMNfGZ0H', 'service_tier': 'default', 'finish_reason': 'stop', 'logprobs': None}, id='run--1303510d-24b3-41b5-91da-113f490105c0-0', usage_metadata={'input_tokens': 1995, 'output_tokens': 45, 'total_tokens': 2040, 'input_token_details': {'audio': 0, 'cache_read': 0}, 'output_token_details': {'audio': 0, 'reasoning': 0}})]}"
      ]
     },
     "execution_count": 55,
     "metadata": {},
     "output_type": "execute_result"
    }
   ],
   "source": [
    "response"
   ]
  },
  {
   "cell_type": "code",
   "execution_count": 57,
   "id": "295624c7",
   "metadata": {},
   "outputs": [
    {
     "data": {
      "text/plain": [
       "'Your name is Harrindar.'"
      ]
     },
     "execution_count": 57,
     "metadata": {},
     "output_type": "execute_result"
    }
   ],
   "source": [
    "response = await workflow.ainvoke({\n",
    "    \"messages\": [HumanMessage(content=\"what is my name\")]\n",
    "}, config=config)\n",
    "response[\"messages\"][-1].content"
   ]
  },
  {
   "cell_type": "code",
   "execution_count": 58,
   "id": "f2d78a5d",
   "metadata": {},
   "outputs": [
    {
     "data": {
      "text/plain": [
       "{'messages': [HumanMessage(content='Hi I am Harrindar', additional_kwargs={}, response_metadata={}, id='c6e1af45-87be-4636-bba0-df41a08b7b86'),\n",
       "  AIMessage(content='Hello Harrindar! How can I assist you today?', additional_kwargs={'refusal': None}, response_metadata={'token_usage': {'completion_tokens': 13, 'prompt_tokens': 85, 'total_tokens': 98, 'completion_tokens_details': {'accepted_prediction_tokens': 0, 'audio_tokens': 0, 'reasoning_tokens': 0, 'rejected_prediction_tokens': 0}, 'prompt_tokens_details': {'audio_tokens': 0, 'cached_tokens': 0}}, 'model_name': 'gpt-4o-2024-08-06', 'system_fingerprint': 'fp_a288987b44', 'id': 'chatcmpl-BydcFxpy7iAbnPU8xiH6iawXA35ED', 'service_tier': 'default', 'finish_reason': 'stop', 'logprobs': None}, id='run--17340e3c-5621-4e74-9feb-7b6cf172958a-0', usage_metadata={'input_tokens': 85, 'output_tokens': 13, 'total_tokens': 98, 'input_token_details': {'audio': 0, 'cache_read': 0}, 'output_token_details': {'audio': 0, 'reasoning': 0}}),\n",
       "  HumanMessage(content='who won women euro 2025', additional_kwargs={}, response_metadata={}, id='7213f665-32b4-4a82-af1f-f214a3cc3d84'),\n",
       "  AIMessage(content='', additional_kwargs={'tool_calls': [{'id': 'call_YWsj7jUv75d0Py775USQcyBw', 'function': {'arguments': '{\"query\":\"Women\\'s Euro 2025 winner\"}', 'name': 'tavily_search_results_json'}, 'type': 'function'}], 'refusal': None}, response_metadata={'token_usage': {'completion_tokens': 23, 'prompt_tokens': 112, 'total_tokens': 135, 'completion_tokens_details': {'accepted_prediction_tokens': 0, 'audio_tokens': 0, 'reasoning_tokens': 0, 'rejected_prediction_tokens': 0}, 'prompt_tokens_details': {'audio_tokens': 0, 'cached_tokens': 0}}, 'model_name': 'gpt-4o-2024-08-06', 'system_fingerprint': 'fp_a288987b44', 'id': 'chatcmpl-Bydct3FN1yhJReZLwPuJQFlNiHWUc', 'service_tier': 'default', 'finish_reason': 'tool_calls', 'logprobs': None}, id='run--d8c971c2-290d-47a1-b65b-a2fbe4aecf67-0', tool_calls=[{'name': 'tavily_search_results_json', 'args': {'query': \"Women's Euro 2025 winner\"}, 'id': 'call_YWsj7jUv75d0Py775USQcyBw', 'type': 'tool_call'}], usage_metadata={'input_tokens': 112, 'output_tokens': 23, 'total_tokens': 135, 'input_token_details': {'audio': 0, 'cache_read': 0}, 'output_token_details': {'audio': 0, 'reasoning': 0}}),\n",
       "  ToolMessage(content='[{\\'title\\': \"UEFA Women\\'s Euro 2025 final - Wikipedia\", \\'url\\': \\'https://en.wikipedia.org/wiki/UEFA_Women%27s_Euro_2025_final\\', \\'content\\': \\'The UEFA Women\\\\\\'s Euro 2025 final is an upcoming football match on 27 July 2025 that will take place at St. Jakob-Park in Basel, Switzerland, to determine the winners of UEFA Women\\\\\\'s Euro 2025. The match will take place between defending champions England and Spain, mirroring the men\\\\\\'s UEFA Euro final of the previous year and serving as a rematch of the 2023 FIFA Women\\\\\\'s World Cup final.\\\\n\\\\n## Background\\\\n\\\\n[edit] [...] Jump to content\\\\n\\\\n# UEFA Women\\\\\\'s Euro 2025 final\\\\n\\\\n العربية\\\\n Italiano\\\\n Türkçe\\\\n 中文\\\\n\\\\nEdit links\\\\n\\\\nFrom Wikipedia, the free encyclopedia\\\\n\\\\nFootball match\\\\n\\\\nUEFA Women\\\\\\'s Euro 2025 final\\\\n\\\\n| St. Jakob-Park in Basel will host the final. | |\\\\n| Event | UEFA Women\\\\\\'s Euro 2025 |\\\\n| | England | Spain | | --- | --- | |  |  | |  |  | | |\\\\n| Date | 27 July 2025 (2025-07-27) |\\\\n| Venue | St. Jakob-Park, Basel |\\\\n| Referee \"Referee (association football)\") | Stéphanie Frappart (France) |\\\\n| ← 2022  2029 → | | [...] Facing tournament hosts Switzerland (runners-up in Group A) in the quarter-finals in Bern, Spain cruised to a 2–0 win over Switzerland with goals from Athenea del Castillo and Clàudia Pina. In their first European semi-final in 28 years, Spain beat 2022 runners-up Germany 1–0 in Zurich, with Aitana Bonmatí scoring the lone goal – an audacious near-post shot to beat Ann-Katrin Berger – in extra time to send Spain into their first Women\\\\\\'s Euro final.\\\\n\\\\n## Match\\\\n\\\\n[edit]\\\\n\\\\n### Details\\\\n\\\\n[edit]\\', \\'score\\': 0.9220975}, {\\'title\\': \"Football, UEFA Women\\'s EURO 2025 final: England come from ...\", \\'url\\': \\'https://www.olympics.com/en/news/uefa-womens-euro-2025-final-england-vs-spain-live-updates\\', \\'content\\': \"By Nischal Schwager-Patel Updated on 27 July 2025 18:50 GMT+0 12 min read\\\\n\\\\nEngland are the champions of Europe, defeating world champions Spain in the UEFA Women’s EURO 2025 final.\\\\n\\\\nAfter 120 minutes of tense football on Sunday (27 July), Chloe Kelly scored the decisive spot kick in the penalty shootout, as England won 3-1 on penalties after a 1-1 draw in normal time at St. Jakob-Park. [...] And so, another substitute Chloe Kelly will take the fifth and final penalty for England. She places the ball down, adjusts her hair, takes her huge trademark step...and smashes the spot kick into the top corner out of reach!\\\\n\\\\nEngland have done it, they have defended their title and the Lionesses are the EURO 2025 champions!\\\\n\\\\n_20:44 - England 1-1 Spain (2-1 pens)_\\\\n\\\\nSpanish substitute Salma Paralluelo steps up...and she drags her effort wide!\\\\n\\\\n_20:43 - England 1-1 Spain (2-1 pens)_ [...] UEFA Women’s EURO 2025 final: England come from behind to beat Spain in penalty shootout - as it happened\\\\n=========================================================================================================\\\\n\\\\nRelive how England became the champions of Europe once again, defeating world champions Spain in the UEFA Women’s EURO 2025 final.\\\\n\\\\nImage 2: England celebrate penalty shootout victory in the UEFA Women\\'s EURO 2025 final against Spain.\\\\n\\\\nPicture by Alexander Hassenstein/Getty Images\", \\'score\\': 0.90123636}, {\\'title\\': \"UEFA Women\\'s Euro 2025 - Wikipedia\", \\'url\\': \\'https://en.wikipedia.org/wiki/UEFA_Women%27s_Euro_2025\\', \\'content\\': \\'Image 303: FranceAmel Majri\\\\n   Image 304: FranceClara Mateo\\\\n   Image 305: GermanyJule Brand\\\\n   Image 306: GermanySjoeke Nüsken\\\\n   Image 307: IcelandHlín Eiríksdóttir\\\\n   Image 308: IcelandSveindís Jane Jónsdóttir\\\\n   Image 309: IcelandGlódís Perla Viggósdóttir\\\\n   Image 310: ItalyArianna Caruso\\\\n   Image 311: ItalyCristiana Girelli\\\\n   Image 312: NetherlandsEsmee Brugts\\\\n   Image 313: NetherlandsVivianne Miedema\\\\n   Image 314: NetherlandsVictoria Pelova\\\\n   Image 315: NorwayCaroline Graham Hansen [...] Winner Group C\\\\n22 July – Geneva\\\\nRunner-up Group D\\\\nWinner QF3\\\\n16 July – Geneva\\\\nWinner QF1\\\\nImage 280: NorwayNorway\\\\n27 July – Basel\\\\nRunner-up Group B\\\\nWinner SF1\\\\n19 July – Basel\\\\nWinner SF2\\\\nWinner Group D\\\\n23 July – Zurich\\\\nRunner-up Group C\\\\nWinner QF4\\\\n18 July – Bern\\\\nWinner QF2\\\\nWinner Group B\\\\n\\\\nImage 281: SwitzerlandSwitzerland\\\\n\\\\n### Quarter-finals\\\\n\\\\n[edit]\\\\n\\\\n16 July 2025(2025-07-16)\\\\n\\\\n21:00\\\\n\\\\n| NorwayImage 282: Norway | Match 25 QF1 | Runner-up Group B |\\\\n| --- | --- | --- |\\\\n|  |  |  | [...] Image 290: BelgiumHannah Eurlings\\\\n   Image 291: BelgiumJustine Vanhaevermaet\\\\n   Image 292: DenmarkAmalie Vangsgaard\\\\n   Image 293: EnglandGeorgia Stanway\\\\n   Image 294: EnglandElla Toone\\\\n   Image 295: EnglandKeira Walsh\\\\n   Image 296: FinlandKatariina Kosola\\\\n   Image 297: FinlandNatalia Kuikka\\\\n   Image 298: FinlandOona Sevenius\\\\n   Image 299: FranceSandy Baltimore\\\\n   Image 300: FranceKadidiatou Diani\\\\n   Image 301: FranceGrace Geyoro\\\\n   Image 302: FranceMarie-Antoinette Katoto\\', \\'score\\': 0.83225065}, {\\'title\\': \"Fixtures & results | UEFA Women\\'s EURO 2025\", \\'url\\': \\'https://www.uefa.com/womenseuro/fixtures-results/\\', \\'content\\': \\'Bosnia and Herzegovina\\\\n\\\\nBulgaria\\\\n\\\\nCroatia\\\\n\\\\nCyprus\\\\n\\\\nCzechia\\\\n\\\\nDenmark\\\\n\\\\nEngland\\\\n\\\\nEstonia\\\\n\\\\nFaroe Islands\\\\n\\\\nFinland\\\\n\\\\nFrance\\\\n\\\\nGeorgia\\\\n\\\\nGermany\\\\n\\\\nGreece\\\\n\\\\nHungary\\\\n\\\\nIceland\\\\n\\\\nIsrael\\\\n\\\\nItaly\\\\n\\\\nKazakhstan\\\\n\\\\nLatvia\\\\n\\\\nLithuania\\\\n\\\\nLuxembourg\\\\n\\\\nMalta\\\\n\\\\nMoldova\\\\n\\\\nMontenegro\\\\n\\\\nNetherlands\\\\n\\\\nNorth Macedonia\\\\n\\\\nNorthern Ireland\\\\n\\\\nNorway\\\\n\\\\nPoland\\\\n\\\\nPortugal\\\\n\\\\nRepublic of Ireland\\\\n\\\\nRomania\\\\n\\\\nScotland\\\\n\\\\nSerbia\\\\n\\\\nSlovakia\\\\n\\\\nSlovenia\\\\n\\\\nSpain\\\\n\\\\nSweden\\\\n\\\\nSwitzerland\\\\n\\\\nTürki̇ye\\\\n\\\\nUkraine\\\\n\\\\nWales\\\\n\\\\nApply selection Reset filters [...] Apply Cancel\\\\n\\\\nSave settings\\\\n\\\\nReject All Allow All\\\\n\\\\nImage 53: Powered by Onetrust\\\\n\\\\nJoin 43 million football fans today\\\\n\\\\n   Watch live and on-demand\\\\n   Play games and challenge your friends\\\\n   Win money-can’t-buy prizes\\\\n   Apply for tickets to Europe’s biggest games\\\\n\\\\nYour custom access to:\\\\n\\\\nand much more!\\\\n\\\\nYour custom access to:\\\\n\\\\nand much more!\\\\n\\\\nFilter\\\\n\\\\nSort calendar By date By round\\\\n\\\\nMatches & draws\\\\n\\\\nMatches Draws\\\\n\\\\nFilter by team\\\\n\\\\nAlbania\\\\n\\\\nAndorra\\\\n\\\\nArmenia\\\\n\\\\nAustria\\\\n\\\\nAzerbaijan\\\\n\\\\nBelarus\\\\n\\\\nBelgium [...] Matches\\\\n   Groups\\\\n   UEFA.tv\\\\n   Stats Stats Top scorer\\\\n   Teams\\\\n   News\\\\n   Gaming All games Fantasy Football Match Predictor Tournament Bracket Knockout Bracket Browse quizzes\\\\n   Tickets Overview Hospitality\\\\n   Event guide Overview Basel Bern Geneva Zurich St.Gallen Lucerne Sion Thun\\\\n   History Seasons All-time stats Video Teams Most titles\\\\n   About\\\\n   Store\\', \\'score\\': 0.7738498}]', name='tavily_search_results_json', id='e00d4c7a-a9d3-4209-8f6a-f358a73ea8cd', tool_call_id='call_YWsj7jUv75d0Py775USQcyBw'),\n",
       "  AIMessage(content=\"England won the UEFA Women's Euro 2025, defeating Spain in the final. The match ended in a 1-1 draw after normal time, and England secured the victory by winning 3-1 on penalties.\", additional_kwargs={'refusal': None}, response_metadata={'token_usage': {'completion_tokens': 45, 'prompt_tokens': 1995, 'total_tokens': 2040, 'completion_tokens_details': {'accepted_prediction_tokens': 0, 'audio_tokens': 0, 'reasoning_tokens': 0, 'rejected_prediction_tokens': 0}, 'prompt_tokens_details': {'audio_tokens': 0, 'cached_tokens': 0}}, 'model_name': 'gpt-4o-2024-08-06', 'system_fingerprint': 'fp_a288987b44', 'id': 'chatcmpl-BydcygH43DWbqlgSPig6pCMNfGZ0H', 'service_tier': 'default', 'finish_reason': 'stop', 'logprobs': None}, id='run--1303510d-24b3-41b5-91da-113f490105c0-0', usage_metadata={'input_tokens': 1995, 'output_tokens': 45, 'total_tokens': 2040, 'input_token_details': {'audio': 0, 'cache_read': 0}, 'output_token_details': {'audio': 0, 'reasoning': 0}}),\n",
       "  HumanMessage(content='who won women euro 2025', additional_kwargs={}, response_metadata={}, id='ae93435d-5a67-4bc8-abab-3ef0f2f0a231'),\n",
       "  AIMessage(content=\"England won the UEFA Women's Euro 2025 by defeating Spain in the final, with the match ending 1-1 in normal time and England winning 3-1 on penalties.\", additional_kwargs={'refusal': None}, response_metadata={'token_usage': {'completion_tokens': 38, 'prompt_tokens': 2054, 'total_tokens': 2092, 'completion_tokens_details': {'accepted_prediction_tokens': 0, 'audio_tokens': 0, 'reasoning_tokens': 0, 'rejected_prediction_tokens': 0}, 'prompt_tokens_details': {'audio_tokens': 0, 'cached_tokens': 1920}}, 'model_name': 'gpt-4o-2024-08-06', 'system_fingerprint': 'fp_a288987b44', 'id': 'chatcmpl-ByddiNfZED3QONCmcHgDmBvggo7SB', 'service_tier': 'default', 'finish_reason': 'stop', 'logprobs': None}, id='run--8b10d79c-5f01-42b9-b5b9-a2e13b197af0-0', usage_metadata={'input_tokens': 2054, 'output_tokens': 38, 'total_tokens': 2092, 'input_token_details': {'audio': 0, 'cache_read': 1920}, 'output_token_details': {'audio': 0, 'reasoning': 0}}),\n",
       "  HumanMessage(content='what is my name', additional_kwargs={}, response_metadata={}, id='e70e69e8-6cf4-40ec-8a70-9ab157930261'),\n",
       "  AIMessage(content='Your name is Harrindar.', additional_kwargs={'refusal': None}, response_metadata={'token_usage': {'completion_tokens': 8, 'prompt_tokens': 2103, 'total_tokens': 2111, 'completion_tokens_details': {'accepted_prediction_tokens': 0, 'audio_tokens': 0, 'reasoning_tokens': 0, 'rejected_prediction_tokens': 0}, 'prompt_tokens_details': {'audio_tokens': 0, 'cached_tokens': 2048}}, 'model_name': 'gpt-4o-2024-08-06', 'system_fingerprint': 'fp_a288987b44', 'id': 'chatcmpl-Byddtw6rp6XWoYWKXwAo3FaRScvXa', 'service_tier': 'default', 'finish_reason': 'stop', 'logprobs': None}, id='run--5d33fbc0-9ad8-48e2-ac3d-a3caf969ec38-0', usage_metadata={'input_tokens': 2103, 'output_tokens': 8, 'total_tokens': 2111, 'input_token_details': {'audio': 0, 'cache_read': 2048}, 'output_token_details': {'audio': 0, 'reasoning': 0}})]}"
      ]
     },
     "execution_count": 58,
     "metadata": {},
     "output_type": "execute_result"
    }
   ],
   "source": [
    "response"
   ]
  },
  {
   "cell_type": "markdown",
   "id": "26280e12",
   "metadata": {},
   "source": [
    "#### Streaming Data"
   ]
  },
  {
   "cell_type": "code",
   "execution_count": null,
   "id": "8d6a7d83",
   "metadata": {},
   "outputs": [
    {
     "name": "stdout",
     "output_type": "stream",
     "text": [
      "{'event': 'on_chain_start', 'data': {'input': {'messages': [HumanMessage(content='what was my first question', additional_kwargs={}, response_metadata={})]}}, 'name': 'LangGraph', 'tags': [], 'run_id': 'fc42785b-88b6-4d96-9c40-b7dece4cd6f9', 'metadata': {'thread_id': '10000'}, 'parent_ids': []}\n",
      "{'event': 'on_chain_start', 'data': {'input': {'messages': [HumanMessage(content='what was my first question', additional_kwargs={}, response_metadata={}, id='ee44f0f1-a131-4597-807a-9f75bbb73f43')]}}, 'name': 'model', 'tags': ['graph:step:1'], 'run_id': 'f6b4bed9-8238-4f6c-94a5-a0a1ee2afb4c', 'metadata': {'thread_id': '10000', 'langgraph_step': 1, 'langgraph_node': 'model', 'langgraph_triggers': ('branch:to:model',), 'langgraph_path': ('__pregel_pull', 'model'), 'langgraph_checkpoint_ns': 'model:ecadb879-2dcd-2884-b5e7-5155d0654e0d'}, 'parent_ids': ['fc42785b-88b6-4d96-9c40-b7dece4cd6f9']}\n",
      "{'event': 'on_chat_model_start', 'data': {'input': {'messages': [[HumanMessage(content='what was my first question', additional_kwargs={}, response_metadata={}, id='ee44f0f1-a131-4597-807a-9f75bbb73f43')]]}}, 'name': 'ChatOpenAI', 'tags': ['seq:step:1'], 'run_id': '1c53cefa-2890-4644-a8f8-ef7f46062306', 'metadata': {'thread_id': '10000', 'langgraph_step': 1, 'langgraph_node': 'model', 'langgraph_triggers': ('branch:to:model',), 'langgraph_path': ('__pregel_pull', 'model'), 'langgraph_checkpoint_ns': 'model:ecadb879-2dcd-2884-b5e7-5155d0654e0d', 'checkpoint_ns': 'model:ecadb879-2dcd-2884-b5e7-5155d0654e0d', 'ls_provider': 'openai', 'ls_model_name': 'gpt-4o', 'ls_model_type': 'chat', 'ls_temperature': None}, 'parent_ids': ['fc42785b-88b6-4d96-9c40-b7dece4cd6f9', 'f6b4bed9-8238-4f6c-94a5-a0a1ee2afb4c']}\n",
      "{'event': 'on_chat_model_stream', 'data': {'chunk': AIMessageChunk(content='', additional_kwargs={}, response_metadata={}, id='run--1c53cefa-2890-4644-a8f8-ef7f46062306')}, 'run_id': '1c53cefa-2890-4644-a8f8-ef7f46062306', 'name': 'ChatOpenAI', 'tags': ['seq:step:1'], 'metadata': {'thread_id': '10000', 'langgraph_step': 1, 'langgraph_node': 'model', 'langgraph_triggers': ('branch:to:model',), 'langgraph_path': ('__pregel_pull', 'model'), 'langgraph_checkpoint_ns': 'model:ecadb879-2dcd-2884-b5e7-5155d0654e0d', 'checkpoint_ns': 'model:ecadb879-2dcd-2884-b5e7-5155d0654e0d', 'ls_provider': 'openai', 'ls_model_name': 'gpt-4o', 'ls_model_type': 'chat', 'ls_temperature': None}, 'parent_ids': ['fc42785b-88b6-4d96-9c40-b7dece4cd6f9', 'f6b4bed9-8238-4f6c-94a5-a0a1ee2afb4c']}\n",
      "{'event': 'on_chat_model_stream', 'data': {'chunk': AIMessageChunk(content=\"I'm\", additional_kwargs={}, response_metadata={}, id='run--1c53cefa-2890-4644-a8f8-ef7f46062306')}, 'run_id': '1c53cefa-2890-4644-a8f8-ef7f46062306', 'name': 'ChatOpenAI', 'tags': ['seq:step:1'], 'metadata': {'thread_id': '10000', 'langgraph_step': 1, 'langgraph_node': 'model', 'langgraph_triggers': ('branch:to:model',), 'langgraph_path': ('__pregel_pull', 'model'), 'langgraph_checkpoint_ns': 'model:ecadb879-2dcd-2884-b5e7-5155d0654e0d', 'checkpoint_ns': 'model:ecadb879-2dcd-2884-b5e7-5155d0654e0d', 'ls_provider': 'openai', 'ls_model_name': 'gpt-4o', 'ls_model_type': 'chat', 'ls_temperature': None}, 'parent_ids': ['fc42785b-88b6-4d96-9c40-b7dece4cd6f9', 'f6b4bed9-8238-4f6c-94a5-a0a1ee2afb4c']}\n",
      "{'event': 'on_chat_model_stream', 'data': {'chunk': AIMessageChunk(content=' unable', additional_kwargs={}, response_metadata={}, id='run--1c53cefa-2890-4644-a8f8-ef7f46062306')}, 'run_id': '1c53cefa-2890-4644-a8f8-ef7f46062306', 'name': 'ChatOpenAI', 'tags': ['seq:step:1'], 'metadata': {'thread_id': '10000', 'langgraph_step': 1, 'langgraph_node': 'model', 'langgraph_triggers': ('branch:to:model',), 'langgraph_path': ('__pregel_pull', 'model'), 'langgraph_checkpoint_ns': 'model:ecadb879-2dcd-2884-b5e7-5155d0654e0d', 'checkpoint_ns': 'model:ecadb879-2dcd-2884-b5e7-5155d0654e0d', 'ls_provider': 'openai', 'ls_model_name': 'gpt-4o', 'ls_model_type': 'chat', 'ls_temperature': None}, 'parent_ids': ['fc42785b-88b6-4d96-9c40-b7dece4cd6f9', 'f6b4bed9-8238-4f6c-94a5-a0a1ee2afb4c']}\n",
      "{'event': 'on_chat_model_stream', 'data': {'chunk': AIMessageChunk(content=' to', additional_kwargs={}, response_metadata={}, id='run--1c53cefa-2890-4644-a8f8-ef7f46062306')}, 'run_id': '1c53cefa-2890-4644-a8f8-ef7f46062306', 'name': 'ChatOpenAI', 'tags': ['seq:step:1'], 'metadata': {'thread_id': '10000', 'langgraph_step': 1, 'langgraph_node': 'model', 'langgraph_triggers': ('branch:to:model',), 'langgraph_path': ('__pregel_pull', 'model'), 'langgraph_checkpoint_ns': 'model:ecadb879-2dcd-2884-b5e7-5155d0654e0d', 'checkpoint_ns': 'model:ecadb879-2dcd-2884-b5e7-5155d0654e0d', 'ls_provider': 'openai', 'ls_model_name': 'gpt-4o', 'ls_model_type': 'chat', 'ls_temperature': None}, 'parent_ids': ['fc42785b-88b6-4d96-9c40-b7dece4cd6f9', 'f6b4bed9-8238-4f6c-94a5-a0a1ee2afb4c']}\n",
      "{'event': 'on_chat_model_stream', 'data': {'chunk': AIMessageChunk(content=' access', additional_kwargs={}, response_metadata={}, id='run--1c53cefa-2890-4644-a8f8-ef7f46062306')}, 'run_id': '1c53cefa-2890-4644-a8f8-ef7f46062306', 'name': 'ChatOpenAI', 'tags': ['seq:step:1'], 'metadata': {'thread_id': '10000', 'langgraph_step': 1, 'langgraph_node': 'model', 'langgraph_triggers': ('branch:to:model',), 'langgraph_path': ('__pregel_pull', 'model'), 'langgraph_checkpoint_ns': 'model:ecadb879-2dcd-2884-b5e7-5155d0654e0d', 'checkpoint_ns': 'model:ecadb879-2dcd-2884-b5e7-5155d0654e0d', 'ls_provider': 'openai', 'ls_model_name': 'gpt-4o', 'ls_model_type': 'chat', 'ls_temperature': None}, 'parent_ids': ['fc42785b-88b6-4d96-9c40-b7dece4cd6f9', 'f6b4bed9-8238-4f6c-94a5-a0a1ee2afb4c']}\n",
      "{'event': 'on_chat_model_stream', 'data': {'chunk': AIMessageChunk(content=' previous', additional_kwargs={}, response_metadata={}, id='run--1c53cefa-2890-4644-a8f8-ef7f46062306')}, 'run_id': '1c53cefa-2890-4644-a8f8-ef7f46062306', 'name': 'ChatOpenAI', 'tags': ['seq:step:1'], 'metadata': {'thread_id': '10000', 'langgraph_step': 1, 'langgraph_node': 'model', 'langgraph_triggers': ('branch:to:model',), 'langgraph_path': ('__pregel_pull', 'model'), 'langgraph_checkpoint_ns': 'model:ecadb879-2dcd-2884-b5e7-5155d0654e0d', 'checkpoint_ns': 'model:ecadb879-2dcd-2884-b5e7-5155d0654e0d', 'ls_provider': 'openai', 'ls_model_name': 'gpt-4o', 'ls_model_type': 'chat', 'ls_temperature': None}, 'parent_ids': ['fc42785b-88b6-4d96-9c40-b7dece4cd6f9', 'f6b4bed9-8238-4f6c-94a5-a0a1ee2afb4c']}\n",
      "{'event': 'on_chat_model_stream', 'data': {'chunk': AIMessageChunk(content=' interactions', additional_kwargs={}, response_metadata={}, id='run--1c53cefa-2890-4644-a8f8-ef7f46062306')}, 'run_id': '1c53cefa-2890-4644-a8f8-ef7f46062306', 'name': 'ChatOpenAI', 'tags': ['seq:step:1'], 'metadata': {'thread_id': '10000', 'langgraph_step': 1, 'langgraph_node': 'model', 'langgraph_triggers': ('branch:to:model',), 'langgraph_path': ('__pregel_pull', 'model'), 'langgraph_checkpoint_ns': 'model:ecadb879-2dcd-2884-b5e7-5155d0654e0d', 'checkpoint_ns': 'model:ecadb879-2dcd-2884-b5e7-5155d0654e0d', 'ls_provider': 'openai', 'ls_model_name': 'gpt-4o', 'ls_model_type': 'chat', 'ls_temperature': None}, 'parent_ids': ['fc42785b-88b6-4d96-9c40-b7dece4cd6f9', 'f6b4bed9-8238-4f6c-94a5-a0a1ee2afb4c']}\n",
      "{'event': 'on_chat_model_stream', 'data': {'chunk': AIMessageChunk(content=' or', additional_kwargs={}, response_metadata={}, id='run--1c53cefa-2890-4644-a8f8-ef7f46062306')}, 'run_id': '1c53cefa-2890-4644-a8f8-ef7f46062306', 'name': 'ChatOpenAI', 'tags': ['seq:step:1'], 'metadata': {'thread_id': '10000', 'langgraph_step': 1, 'langgraph_node': 'model', 'langgraph_triggers': ('branch:to:model',), 'langgraph_path': ('__pregel_pull', 'model'), 'langgraph_checkpoint_ns': 'model:ecadb879-2dcd-2884-b5e7-5155d0654e0d', 'checkpoint_ns': 'model:ecadb879-2dcd-2884-b5e7-5155d0654e0d', 'ls_provider': 'openai', 'ls_model_name': 'gpt-4o', 'ls_model_type': 'chat', 'ls_temperature': None}, 'parent_ids': ['fc42785b-88b6-4d96-9c40-b7dece4cd6f9', 'f6b4bed9-8238-4f6c-94a5-a0a1ee2afb4c']}\n",
      "{'event': 'on_chat_model_stream', 'data': {'chunk': AIMessageChunk(content=' recall', additional_kwargs={}, response_metadata={}, id='run--1c53cefa-2890-4644-a8f8-ef7f46062306')}, 'run_id': '1c53cefa-2890-4644-a8f8-ef7f46062306', 'name': 'ChatOpenAI', 'tags': ['seq:step:1'], 'metadata': {'thread_id': '10000', 'langgraph_step': 1, 'langgraph_node': 'model', 'langgraph_triggers': ('branch:to:model',), 'langgraph_path': ('__pregel_pull', 'model'), 'langgraph_checkpoint_ns': 'model:ecadb879-2dcd-2884-b5e7-5155d0654e0d', 'checkpoint_ns': 'model:ecadb879-2dcd-2884-b5e7-5155d0654e0d', 'ls_provider': 'openai', 'ls_model_name': 'gpt-4o', 'ls_model_type': 'chat', 'ls_temperature': None}, 'parent_ids': ['fc42785b-88b6-4d96-9c40-b7dece4cd6f9', 'f6b4bed9-8238-4f6c-94a5-a0a1ee2afb4c']}\n",
      "{'event': 'on_chat_model_stream', 'data': {'chunk': AIMessageChunk(content=' any', additional_kwargs={}, response_metadata={}, id='run--1c53cefa-2890-4644-a8f8-ef7f46062306')}, 'run_id': '1c53cefa-2890-4644-a8f8-ef7f46062306', 'name': 'ChatOpenAI', 'tags': ['seq:step:1'], 'metadata': {'thread_id': '10000', 'langgraph_step': 1, 'langgraph_node': 'model', 'langgraph_triggers': ('branch:to:model',), 'langgraph_path': ('__pregel_pull', 'model'), 'langgraph_checkpoint_ns': 'model:ecadb879-2dcd-2884-b5e7-5155d0654e0d', 'checkpoint_ns': 'model:ecadb879-2dcd-2884-b5e7-5155d0654e0d', 'ls_provider': 'openai', 'ls_model_name': 'gpt-4o', 'ls_model_type': 'chat', 'ls_temperature': None}, 'parent_ids': ['fc42785b-88b6-4d96-9c40-b7dece4cd6f9', 'f6b4bed9-8238-4f6c-94a5-a0a1ee2afb4c']}\n",
      "{'event': 'on_chat_model_stream', 'data': {'chunk': AIMessageChunk(content=' past', additional_kwargs={}, response_metadata={}, id='run--1c53cefa-2890-4644-a8f8-ef7f46062306')}, 'run_id': '1c53cefa-2890-4644-a8f8-ef7f46062306', 'name': 'ChatOpenAI', 'tags': ['seq:step:1'], 'metadata': {'thread_id': '10000', 'langgraph_step': 1, 'langgraph_node': 'model', 'langgraph_triggers': ('branch:to:model',), 'langgraph_path': ('__pregel_pull', 'model'), 'langgraph_checkpoint_ns': 'model:ecadb879-2dcd-2884-b5e7-5155d0654e0d', 'checkpoint_ns': 'model:ecadb879-2dcd-2884-b5e7-5155d0654e0d', 'ls_provider': 'openai', 'ls_model_name': 'gpt-4o', 'ls_model_type': 'chat', 'ls_temperature': None}, 'parent_ids': ['fc42785b-88b6-4d96-9c40-b7dece4cd6f9', 'f6b4bed9-8238-4f6c-94a5-a0a1ee2afb4c']}\n",
      "{'event': 'on_chat_model_stream', 'data': {'chunk': AIMessageChunk(content=' questions', additional_kwargs={}, response_metadata={}, id='run--1c53cefa-2890-4644-a8f8-ef7f46062306')}, 'run_id': '1c53cefa-2890-4644-a8f8-ef7f46062306', 'name': 'ChatOpenAI', 'tags': ['seq:step:1'], 'metadata': {'thread_id': '10000', 'langgraph_step': 1, 'langgraph_node': 'model', 'langgraph_triggers': ('branch:to:model',), 'langgraph_path': ('__pregel_pull', 'model'), 'langgraph_checkpoint_ns': 'model:ecadb879-2dcd-2884-b5e7-5155d0654e0d', 'checkpoint_ns': 'model:ecadb879-2dcd-2884-b5e7-5155d0654e0d', 'ls_provider': 'openai', 'ls_model_name': 'gpt-4o', 'ls_model_type': 'chat', 'ls_temperature': None}, 'parent_ids': ['fc42785b-88b6-4d96-9c40-b7dece4cd6f9', 'f6b4bed9-8238-4f6c-94a5-a0a1ee2afb4c']}\n",
      "{'event': 'on_chat_model_stream', 'data': {'chunk': AIMessageChunk(content='.', additional_kwargs={}, response_metadata={}, id='run--1c53cefa-2890-4644-a8f8-ef7f46062306')}, 'run_id': '1c53cefa-2890-4644-a8f8-ef7f46062306', 'name': 'ChatOpenAI', 'tags': ['seq:step:1'], 'metadata': {'thread_id': '10000', 'langgraph_step': 1, 'langgraph_node': 'model', 'langgraph_triggers': ('branch:to:model',), 'langgraph_path': ('__pregel_pull', 'model'), 'langgraph_checkpoint_ns': 'model:ecadb879-2dcd-2884-b5e7-5155d0654e0d', 'checkpoint_ns': 'model:ecadb879-2dcd-2884-b5e7-5155d0654e0d', 'ls_provider': 'openai', 'ls_model_name': 'gpt-4o', 'ls_model_type': 'chat', 'ls_temperature': None}, 'parent_ids': ['fc42785b-88b6-4d96-9c40-b7dece4cd6f9', 'f6b4bed9-8238-4f6c-94a5-a0a1ee2afb4c']}\n",
      "{'event': 'on_chat_model_stream', 'data': {'chunk': AIMessageChunk(content=' Could', additional_kwargs={}, response_metadata={}, id='run--1c53cefa-2890-4644-a8f8-ef7f46062306')}, 'run_id': '1c53cefa-2890-4644-a8f8-ef7f46062306', 'name': 'ChatOpenAI', 'tags': ['seq:step:1'], 'metadata': {'thread_id': '10000', 'langgraph_step': 1, 'langgraph_node': 'model', 'langgraph_triggers': ('branch:to:model',), 'langgraph_path': ('__pregel_pull', 'model'), 'langgraph_checkpoint_ns': 'model:ecadb879-2dcd-2884-b5e7-5155d0654e0d', 'checkpoint_ns': 'model:ecadb879-2dcd-2884-b5e7-5155d0654e0d', 'ls_provider': 'openai', 'ls_model_name': 'gpt-4o', 'ls_model_type': 'chat', 'ls_temperature': None}, 'parent_ids': ['fc42785b-88b6-4d96-9c40-b7dece4cd6f9', 'f6b4bed9-8238-4f6c-94a5-a0a1ee2afb4c']}\n",
      "{'event': 'on_chat_model_stream', 'data': {'chunk': AIMessageChunk(content=' you', additional_kwargs={}, response_metadata={}, id='run--1c53cefa-2890-4644-a8f8-ef7f46062306')}, 'run_id': '1c53cefa-2890-4644-a8f8-ef7f46062306', 'name': 'ChatOpenAI', 'tags': ['seq:step:1'], 'metadata': {'thread_id': '10000', 'langgraph_step': 1, 'langgraph_node': 'model', 'langgraph_triggers': ('branch:to:model',), 'langgraph_path': ('__pregel_pull', 'model'), 'langgraph_checkpoint_ns': 'model:ecadb879-2dcd-2884-b5e7-5155d0654e0d', 'checkpoint_ns': 'model:ecadb879-2dcd-2884-b5e7-5155d0654e0d', 'ls_provider': 'openai', 'ls_model_name': 'gpt-4o', 'ls_model_type': 'chat', 'ls_temperature': None}, 'parent_ids': ['fc42785b-88b6-4d96-9c40-b7dece4cd6f9', 'f6b4bed9-8238-4f6c-94a5-a0a1ee2afb4c']}\n",
      "{'event': 'on_chat_model_stream', 'data': {'chunk': AIMessageChunk(content=' please', additional_kwargs={}, response_metadata={}, id='run--1c53cefa-2890-4644-a8f8-ef7f46062306')}, 'run_id': '1c53cefa-2890-4644-a8f8-ef7f46062306', 'name': 'ChatOpenAI', 'tags': ['seq:step:1'], 'metadata': {'thread_id': '10000', 'langgraph_step': 1, 'langgraph_node': 'model', 'langgraph_triggers': ('branch:to:model',), 'langgraph_path': ('__pregel_pull', 'model'), 'langgraph_checkpoint_ns': 'model:ecadb879-2dcd-2884-b5e7-5155d0654e0d', 'checkpoint_ns': 'model:ecadb879-2dcd-2884-b5e7-5155d0654e0d', 'ls_provider': 'openai', 'ls_model_name': 'gpt-4o', 'ls_model_type': 'chat', 'ls_temperature': None}, 'parent_ids': ['fc42785b-88b6-4d96-9c40-b7dece4cd6f9', 'f6b4bed9-8238-4f6c-94a5-a0a1ee2afb4c']}\n",
      "{'event': 'on_chat_model_stream', 'data': {'chunk': AIMessageChunk(content=' remind', additional_kwargs={}, response_metadata={}, id='run--1c53cefa-2890-4644-a8f8-ef7f46062306')}, 'run_id': '1c53cefa-2890-4644-a8f8-ef7f46062306', 'name': 'ChatOpenAI', 'tags': ['seq:step:1'], 'metadata': {'thread_id': '10000', 'langgraph_step': 1, 'langgraph_node': 'model', 'langgraph_triggers': ('branch:to:model',), 'langgraph_path': ('__pregel_pull', 'model'), 'langgraph_checkpoint_ns': 'model:ecadb879-2dcd-2884-b5e7-5155d0654e0d', 'checkpoint_ns': 'model:ecadb879-2dcd-2884-b5e7-5155d0654e0d', 'ls_provider': 'openai', 'ls_model_name': 'gpt-4o', 'ls_model_type': 'chat', 'ls_temperature': None}, 'parent_ids': ['fc42785b-88b6-4d96-9c40-b7dece4cd6f9', 'f6b4bed9-8238-4f6c-94a5-a0a1ee2afb4c']}\n",
      "{'event': 'on_chat_model_stream', 'data': {'chunk': AIMessageChunk(content=' me', additional_kwargs={}, response_metadata={}, id='run--1c53cefa-2890-4644-a8f8-ef7f46062306')}, 'run_id': '1c53cefa-2890-4644-a8f8-ef7f46062306', 'name': 'ChatOpenAI', 'tags': ['seq:step:1'], 'metadata': {'thread_id': '10000', 'langgraph_step': 1, 'langgraph_node': 'model', 'langgraph_triggers': ('branch:to:model',), 'langgraph_path': ('__pregel_pull', 'model'), 'langgraph_checkpoint_ns': 'model:ecadb879-2dcd-2884-b5e7-5155d0654e0d', 'checkpoint_ns': 'model:ecadb879-2dcd-2884-b5e7-5155d0654e0d', 'ls_provider': 'openai', 'ls_model_name': 'gpt-4o', 'ls_model_type': 'chat', 'ls_temperature': None}, 'parent_ids': ['fc42785b-88b6-4d96-9c40-b7dece4cd6f9', 'f6b4bed9-8238-4f6c-94a5-a0a1ee2afb4c']}\n",
      "{'event': 'on_chat_model_stream', 'data': {'chunk': AIMessageChunk(content=' of', additional_kwargs={}, response_metadata={}, id='run--1c53cefa-2890-4644-a8f8-ef7f46062306')}, 'run_id': '1c53cefa-2890-4644-a8f8-ef7f46062306', 'name': 'ChatOpenAI', 'tags': ['seq:step:1'], 'metadata': {'thread_id': '10000', 'langgraph_step': 1, 'langgraph_node': 'model', 'langgraph_triggers': ('branch:to:model',), 'langgraph_path': ('__pregel_pull', 'model'), 'langgraph_checkpoint_ns': 'model:ecadb879-2dcd-2884-b5e7-5155d0654e0d', 'checkpoint_ns': 'model:ecadb879-2dcd-2884-b5e7-5155d0654e0d', 'ls_provider': 'openai', 'ls_model_name': 'gpt-4o', 'ls_model_type': 'chat', 'ls_temperature': None}, 'parent_ids': ['fc42785b-88b6-4d96-9c40-b7dece4cd6f9', 'f6b4bed9-8238-4f6c-94a5-a0a1ee2afb4c']}\n",
      "{'event': 'on_chat_model_stream', 'data': {'chunk': AIMessageChunk(content=' what', additional_kwargs={}, response_metadata={}, id='run--1c53cefa-2890-4644-a8f8-ef7f46062306')}, 'run_id': '1c53cefa-2890-4644-a8f8-ef7f46062306', 'name': 'ChatOpenAI', 'tags': ['seq:step:1'], 'metadata': {'thread_id': '10000', 'langgraph_step': 1, 'langgraph_node': 'model', 'langgraph_triggers': ('branch:to:model',), 'langgraph_path': ('__pregel_pull', 'model'), 'langgraph_checkpoint_ns': 'model:ecadb879-2dcd-2884-b5e7-5155d0654e0d', 'checkpoint_ns': 'model:ecadb879-2dcd-2884-b5e7-5155d0654e0d', 'ls_provider': 'openai', 'ls_model_name': 'gpt-4o', 'ls_model_type': 'chat', 'ls_temperature': None}, 'parent_ids': ['fc42785b-88b6-4d96-9c40-b7dece4cd6f9', 'f6b4bed9-8238-4f6c-94a5-a0a1ee2afb4c']}\n",
      "{'event': 'on_chat_model_stream', 'data': {'chunk': AIMessageChunk(content=' your', additional_kwargs={}, response_metadata={}, id='run--1c53cefa-2890-4644-a8f8-ef7f46062306')}, 'run_id': '1c53cefa-2890-4644-a8f8-ef7f46062306', 'name': 'ChatOpenAI', 'tags': ['seq:step:1'], 'metadata': {'thread_id': '10000', 'langgraph_step': 1, 'langgraph_node': 'model', 'langgraph_triggers': ('branch:to:model',), 'langgraph_path': ('__pregel_pull', 'model'), 'langgraph_checkpoint_ns': 'model:ecadb879-2dcd-2884-b5e7-5155d0654e0d', 'checkpoint_ns': 'model:ecadb879-2dcd-2884-b5e7-5155d0654e0d', 'ls_provider': 'openai', 'ls_model_name': 'gpt-4o', 'ls_model_type': 'chat', 'ls_temperature': None}, 'parent_ids': ['fc42785b-88b6-4d96-9c40-b7dece4cd6f9', 'f6b4bed9-8238-4f6c-94a5-a0a1ee2afb4c']}\n",
      "{'event': 'on_chat_model_stream', 'data': {'chunk': AIMessageChunk(content=' first', additional_kwargs={}, response_metadata={}, id='run--1c53cefa-2890-4644-a8f8-ef7f46062306')}, 'run_id': '1c53cefa-2890-4644-a8f8-ef7f46062306', 'name': 'ChatOpenAI', 'tags': ['seq:step:1'], 'metadata': {'thread_id': '10000', 'langgraph_step': 1, 'langgraph_node': 'model', 'langgraph_triggers': ('branch:to:model',), 'langgraph_path': ('__pregel_pull', 'model'), 'langgraph_checkpoint_ns': 'model:ecadb879-2dcd-2884-b5e7-5155d0654e0d', 'checkpoint_ns': 'model:ecadb879-2dcd-2884-b5e7-5155d0654e0d', 'ls_provider': 'openai', 'ls_model_name': 'gpt-4o', 'ls_model_type': 'chat', 'ls_temperature': None}, 'parent_ids': ['fc42785b-88b6-4d96-9c40-b7dece4cd6f9', 'f6b4bed9-8238-4f6c-94a5-a0a1ee2afb4c']}\n",
      "{'event': 'on_chat_model_stream', 'data': {'chunk': AIMessageChunk(content=' question', additional_kwargs={}, response_metadata={}, id='run--1c53cefa-2890-4644-a8f8-ef7f46062306')}, 'run_id': '1c53cefa-2890-4644-a8f8-ef7f46062306', 'name': 'ChatOpenAI', 'tags': ['seq:step:1'], 'metadata': {'thread_id': '10000', 'langgraph_step': 1, 'langgraph_node': 'model', 'langgraph_triggers': ('branch:to:model',), 'langgraph_path': ('__pregel_pull', 'model'), 'langgraph_checkpoint_ns': 'model:ecadb879-2dcd-2884-b5e7-5155d0654e0d', 'checkpoint_ns': 'model:ecadb879-2dcd-2884-b5e7-5155d0654e0d', 'ls_provider': 'openai', 'ls_model_name': 'gpt-4o', 'ls_model_type': 'chat', 'ls_temperature': None}, 'parent_ids': ['fc42785b-88b6-4d96-9c40-b7dece4cd6f9', 'f6b4bed9-8238-4f6c-94a5-a0a1ee2afb4c']}\n",
      "{'event': 'on_chat_model_stream', 'data': {'chunk': AIMessageChunk(content=' was', additional_kwargs={}, response_metadata={}, id='run--1c53cefa-2890-4644-a8f8-ef7f46062306')}, 'run_id': '1c53cefa-2890-4644-a8f8-ef7f46062306', 'name': 'ChatOpenAI', 'tags': ['seq:step:1'], 'metadata': {'thread_id': '10000', 'langgraph_step': 1, 'langgraph_node': 'model', 'langgraph_triggers': ('branch:to:model',), 'langgraph_path': ('__pregel_pull', 'model'), 'langgraph_checkpoint_ns': 'model:ecadb879-2dcd-2884-b5e7-5155d0654e0d', 'checkpoint_ns': 'model:ecadb879-2dcd-2884-b5e7-5155d0654e0d', 'ls_provider': 'openai', 'ls_model_name': 'gpt-4o', 'ls_model_type': 'chat', 'ls_temperature': None}, 'parent_ids': ['fc42785b-88b6-4d96-9c40-b7dece4cd6f9', 'f6b4bed9-8238-4f6c-94a5-a0a1ee2afb4c']}\n",
      "{'event': 'on_chat_model_stream', 'data': {'chunk': AIMessageChunk(content='?', additional_kwargs={}, response_metadata={}, id='run--1c53cefa-2890-4644-a8f8-ef7f46062306')}, 'run_id': '1c53cefa-2890-4644-a8f8-ef7f46062306', 'name': 'ChatOpenAI', 'tags': ['seq:step:1'], 'metadata': {'thread_id': '10000', 'langgraph_step': 1, 'langgraph_node': 'model', 'langgraph_triggers': ('branch:to:model',), 'langgraph_path': ('__pregel_pull', 'model'), 'langgraph_checkpoint_ns': 'model:ecadb879-2dcd-2884-b5e7-5155d0654e0d', 'checkpoint_ns': 'model:ecadb879-2dcd-2884-b5e7-5155d0654e0d', 'ls_provider': 'openai', 'ls_model_name': 'gpt-4o', 'ls_model_type': 'chat', 'ls_temperature': None}, 'parent_ids': ['fc42785b-88b6-4d96-9c40-b7dece4cd6f9', 'f6b4bed9-8238-4f6c-94a5-a0a1ee2afb4c']}\n",
      "{'event': 'on_chat_model_stream', 'data': {'chunk': AIMessageChunk(content='', additional_kwargs={}, response_metadata={'finish_reason': 'stop', 'model_name': 'gpt-4o-2024-08-06', 'system_fingerprint': 'fp_a288987b44', 'service_tier': 'default'}, id='run--1c53cefa-2890-4644-a8f8-ef7f46062306')}, 'run_id': '1c53cefa-2890-4644-a8f8-ef7f46062306', 'name': 'ChatOpenAI', 'tags': ['seq:step:1'], 'metadata': {'thread_id': '10000', 'langgraph_step': 1, 'langgraph_node': 'model', 'langgraph_triggers': ('branch:to:model',), 'langgraph_path': ('__pregel_pull', 'model'), 'langgraph_checkpoint_ns': 'model:ecadb879-2dcd-2884-b5e7-5155d0654e0d', 'checkpoint_ns': 'model:ecadb879-2dcd-2884-b5e7-5155d0654e0d', 'ls_provider': 'openai', 'ls_model_name': 'gpt-4o', 'ls_model_type': 'chat', 'ls_temperature': None}, 'parent_ids': ['fc42785b-88b6-4d96-9c40-b7dece4cd6f9', 'f6b4bed9-8238-4f6c-94a5-a0a1ee2afb4c']}\n",
      "{'event': 'on_chat_model_end', 'data': {'output': AIMessage(content=\"I'm unable to access previous interactions or recall any past questions. Could you please remind me of what your first question was?\", additional_kwargs={}, response_metadata={'finish_reason': 'stop', 'model_name': 'gpt-4o-2024-08-06', 'system_fingerprint': 'fp_a288987b44', 'service_tier': 'default'}, id='run--1c53cefa-2890-4644-a8f8-ef7f46062306'), 'input': {'messages': [[HumanMessage(content='what was my first question', additional_kwargs={}, response_metadata={}, id='ee44f0f1-a131-4597-807a-9f75bbb73f43')]]}}, 'run_id': '1c53cefa-2890-4644-a8f8-ef7f46062306', 'name': 'ChatOpenAI', 'tags': ['seq:step:1'], 'metadata': {'thread_id': '10000', 'langgraph_step': 1, 'langgraph_node': 'model', 'langgraph_triggers': ('branch:to:model',), 'langgraph_path': ('__pregel_pull', 'model'), 'langgraph_checkpoint_ns': 'model:ecadb879-2dcd-2884-b5e7-5155d0654e0d', 'checkpoint_ns': 'model:ecadb879-2dcd-2884-b5e7-5155d0654e0d', 'ls_provider': 'openai', 'ls_model_name': 'gpt-4o', 'ls_model_type': 'chat', 'ls_temperature': None}, 'parent_ids': ['fc42785b-88b6-4d96-9c40-b7dece4cd6f9', 'f6b4bed9-8238-4f6c-94a5-a0a1ee2afb4c']}\n",
      "{'event': 'on_chain_start', 'data': {'input': {'messages': [HumanMessage(content='what was my first question', additional_kwargs={}, response_metadata={}, id='ee44f0f1-a131-4597-807a-9f75bbb73f43'), AIMessage(content=\"I'm unable to access previous interactions or recall any past questions. Could you please remind me of what your first question was?\", additional_kwargs={}, response_metadata={'finish_reason': 'stop', 'model_name': 'gpt-4o-2024-08-06', 'system_fingerprint': 'fp_a288987b44', 'service_tier': 'default'}, id='run--1c53cefa-2890-4644-a8f8-ef7f46062306')]}}, 'name': 'tool_router', 'tags': ['seq:step:3'], 'run_id': '01bb5c43-7e89-4fd9-abe2-7a56cd14fb02', 'metadata': {'thread_id': '10000', 'langgraph_step': 1, 'langgraph_node': 'model', 'langgraph_triggers': ('branch:to:model',), 'langgraph_path': ('__pregel_pull', 'model'), 'langgraph_checkpoint_ns': 'model:ecadb879-2dcd-2884-b5e7-5155d0654e0d'}, 'parent_ids': ['fc42785b-88b6-4d96-9c40-b7dece4cd6f9', 'f6b4bed9-8238-4f6c-94a5-a0a1ee2afb4c']}\n",
      "{'event': 'on_chain_end', 'data': {'output': '__end__', 'input': {'messages': [HumanMessage(content='what was my first question', additional_kwargs={}, response_metadata={}, id='ee44f0f1-a131-4597-807a-9f75bbb73f43'), AIMessage(content=\"I'm unable to access previous interactions or recall any past questions. Could you please remind me of what your first question was?\", additional_kwargs={}, response_metadata={'finish_reason': 'stop', 'model_name': 'gpt-4o-2024-08-06', 'system_fingerprint': 'fp_a288987b44', 'service_tier': 'default'}, id='run--1c53cefa-2890-4644-a8f8-ef7f46062306')]}}, 'run_id': '01bb5c43-7e89-4fd9-abe2-7a56cd14fb02', 'name': 'tool_router', 'tags': ['seq:step:3'], 'metadata': {'thread_id': '10000', 'langgraph_step': 1, 'langgraph_node': 'model', 'langgraph_triggers': ('branch:to:model',), 'langgraph_path': ('__pregel_pull', 'model'), 'langgraph_checkpoint_ns': 'model:ecadb879-2dcd-2884-b5e7-5155d0654e0d'}, 'parent_ids': ['fc42785b-88b6-4d96-9c40-b7dece4cd6f9', 'f6b4bed9-8238-4f6c-94a5-a0a1ee2afb4c']}\n",
      "{'event': 'on_chain_stream', 'run_id': 'f6b4bed9-8238-4f6c-94a5-a0a1ee2afb4c', 'name': 'model', 'tags': ['graph:step:1'], 'metadata': {'thread_id': '10000', 'langgraph_step': 1, 'langgraph_node': 'model', 'langgraph_triggers': ('branch:to:model',), 'langgraph_path': ('__pregel_pull', 'model'), 'langgraph_checkpoint_ns': 'model:ecadb879-2dcd-2884-b5e7-5155d0654e0d'}, 'data': {'chunk': {'messages': [AIMessage(content=\"I'm unable to access previous interactions or recall any past questions. Could you please remind me of what your first question was?\", additional_kwargs={}, response_metadata={'finish_reason': 'stop', 'model_name': 'gpt-4o-2024-08-06', 'system_fingerprint': 'fp_a288987b44', 'service_tier': 'default'}, id='run--1c53cefa-2890-4644-a8f8-ef7f46062306')]}}, 'parent_ids': ['fc42785b-88b6-4d96-9c40-b7dece4cd6f9']}\n",
      "{'event': 'on_chain_end', 'data': {'output': {'messages': [AIMessage(content=\"I'm unable to access previous interactions or recall any past questions. Could you please remind me of what your first question was?\", additional_kwargs={}, response_metadata={'finish_reason': 'stop', 'model_name': 'gpt-4o-2024-08-06', 'system_fingerprint': 'fp_a288987b44', 'service_tier': 'default'}, id='run--1c53cefa-2890-4644-a8f8-ef7f46062306')]}, 'input': {'messages': [HumanMessage(content='what was my first question', additional_kwargs={}, response_metadata={}, id='ee44f0f1-a131-4597-807a-9f75bbb73f43')]}}, 'run_id': 'f6b4bed9-8238-4f6c-94a5-a0a1ee2afb4c', 'name': 'model', 'tags': ['graph:step:1'], 'metadata': {'thread_id': '10000', 'langgraph_step': 1, 'langgraph_node': 'model', 'langgraph_triggers': ('branch:to:model',), 'langgraph_path': ('__pregel_pull', 'model'), 'langgraph_checkpoint_ns': 'model:ecadb879-2dcd-2884-b5e7-5155d0654e0d'}, 'parent_ids': ['fc42785b-88b6-4d96-9c40-b7dece4cd6f9']}\n",
      "{'event': 'on_chain_stream', 'run_id': 'fc42785b-88b6-4d96-9c40-b7dece4cd6f9', 'name': 'LangGraph', 'tags': [], 'metadata': {'thread_id': '10000'}, 'data': {'chunk': {'model': {'messages': [AIMessage(content=\"I'm unable to access previous interactions or recall any past questions. Could you please remind me of what your first question was?\", additional_kwargs={}, response_metadata={'finish_reason': 'stop', 'model_name': 'gpt-4o-2024-08-06', 'system_fingerprint': 'fp_a288987b44', 'service_tier': 'default'}, id='run--1c53cefa-2890-4644-a8f8-ef7f46062306')]}}}, 'parent_ids': []}\n",
      "{'event': 'on_chain_end', 'data': {'output': {'messages': [HumanMessage(content='what was my first question', additional_kwargs={}, response_metadata={}, id='ee44f0f1-a131-4597-807a-9f75bbb73f43'), AIMessage(content=\"I'm unable to access previous interactions or recall any past questions. Could you please remind me of what your first question was?\", additional_kwargs={}, response_metadata={'finish_reason': 'stop', 'model_name': 'gpt-4o-2024-08-06', 'system_fingerprint': 'fp_a288987b44', 'service_tier': 'default'}, id='run--1c53cefa-2890-4644-a8f8-ef7f46062306')]}}, 'run_id': 'fc42785b-88b6-4d96-9c40-b7dece4cd6f9', 'name': 'LangGraph', 'tags': [], 'metadata': {'thread_id': '10000'}, 'parent_ids': []}\n"
     ]
    }
   ],
   "source": [
    "async for event in workflow.astream_events(\n",
    "    {\n",
    "        \"messages\": [HumanMessage(content=\"what was my first question\")]\n",
    "    },\n",
    "    config={\n",
    "        \"configurable\": {\n",
    "            \"thread_id\": \"10000\"\n",
    "        }\n",
    "        },\n",
    "    version=\"v2\"\n",
    "):\n",
    "    print(event)"
   ]
  },
  {
   "cell_type": "code",
   "execution_count": 66,
   "id": "90045e03",
   "metadata": {},
   "outputs": [
    {
     "name": "stdout",
     "output_type": "stream",
     "text": [
      "Hello! How can I assist you today?"
     ]
    }
   ],
   "source": [
    "async for event in workflow.astream_events(\n",
    "    {\n",
    "        \"messages\": [HumanMessage(content=\"Hey\")]\n",
    "    },\n",
    "    config={\n",
    "        \"configurable\": {\n",
    "            \"thread_id\": \"100000\"\n",
    "        }\n",
    "        },\n",
    "    version=\"v2\"\n",
    "):\n",
    "    if event[\"event\"] == \"on_chat_model_stream\":\n",
    "        print(event[\"data\"][\"chunk\"].content, end=\"\", flush=True)"
   ]
  },
  {
   "cell_type": "code",
   "execution_count": 67,
   "id": "9e0e8fa3",
   "metadata": {},
   "outputs": [
    {
     "name": "stdout",
     "output_type": "stream",
     "text": [
      "Amelia had always been a dreamer, her head filled with possibilities as endless as the night sky. One chilly autumn evening, she wandered into the old library, attracted by whispers of forgotten tales. Dust danced in the golden light as she pulled a book from the shelf. As she read, the words lifted from the pages, swirling around her in a whirlwind of magic. Suddenly, she found herself in a world of dragons and enchanted forests. The characters welcomed her as one of their own. For the first time, Amelia wasn't merely dreaming—she was living the adventure she'd always imagined."
     ]
    }
   ],
   "source": [
    "async for event in workflow.astream_events(\n",
    "    {\n",
    "        \"messages\": [HumanMessage(content=\"write 100 word story\")]\n",
    "    },\n",
    "    config={\n",
    "        \"configurable\": {\n",
    "            \"thread_id\": \"100000\"\n",
    "        }\n",
    "        },\n",
    "    version=\"v2\"\n",
    "):\n",
    "    if event[\"event\"] == \"on_chat_model_stream\":\n",
    "        print(event[\"data\"][\"chunk\"].content, end=\"\", flush=True)"
   ]
  }
 ],
 "metadata": {
  "kernelspec": {
   "display_name": "venv",
   "language": "python",
   "name": "python3"
  },
  "language_info": {
   "codemirror_mode": {
    "name": "ipython",
    "version": 3
   },
   "file_extension": ".py",
   "mimetype": "text/x-python",
   "name": "python",
   "nbconvert_exporter": "python",
   "pygments_lexer": "ipython3",
   "version": "3.13.5"
  }
 },
 "nbformat": 4,
 "nbformat_minor": 5
}
